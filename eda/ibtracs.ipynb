{
 "cells": [
  {
   "attachments": {},
   "cell_type": "markdown",
   "metadata": {},
   "source": [
    "# IBTrACS Data\n",
    "\n",
    "The IBTrACS, or International Best Track Archive for Climate Stewardship (IBTrACS) data contains a history of tropical storm data. It is stored by [NOAA's National Climatic Data Center (NCDC)](https://www.ncdc.noaa.gov/ibtracs/). Let's load the data and explore it in Python.\n",
    "\n",
    "## Import Modules Gg\n",
    "\n",
    "Let's start by importing the modules we need."
   ]
  },
  {
   "cell_type": "code",
   "execution_count": 1,
   "metadata": {},
   "outputs": [],
   "source": [
    "from urllib import request\n",
    "import os\n",
    "import pandas as pd\n",
    "import numpy as np\n",
    "import matplotlib.pyplot as plt"
   ]
  },
  {
   "attachments": {},
   "cell_type": "markdown",
   "metadata": {},
   "source": [
    "## Download the Data\n",
    "\n",
    "Now we need to download the IBTrACS data. It isn't very large, so it shouldn't take too long."
   ]
  },
  {
   "cell_type": "code",
   "execution_count": 2,
   "metadata": {},
   "outputs": [],
   "source": [
    "# Set the basin to download\n",
    "basin = 'NA'\n",
    "\n",
    "# Set the URL\n",
    "url = 'https://www.ncei.noaa.gov/data/'\n",
    "url += 'international-best-track-archive-for-climate-stewardship-ibtracs/'\n",
    "url += 'v04r00/access/csv/ibtracs.'+basin+'.list.v04r00.csv'\n",
    "\n",
    "# Set the file path\n",
    "filePath = '../data/ibtracs.'+basin+'.nc'\n",
    "\n",
    "# Download the file if it doesn't already exists\n",
    "if not os.path.exists(filePath):\n",
    "    request.urlretrieve(url,filePath)"
   ]
  },
  {
   "attachments": {},
   "cell_type": "markdown",
   "metadata": {},
   "source": [
    "## Explore the Data\n",
    "\n",
    "There are a lot of variables here, but we will only need a handful. Some of the pertinent variables and their descriptions are provided below (from the IBTrACS documentation):\n",
    "\n",
    "<center>\n",
    "\n",
    "Variable Name | Description\n",
    "--- | ---\n",
    "`numobs` | the number of observations for each storm\n",
    "`sid` | a unique storm identifier (SID) assigned by IBTrACS algorithm\n",
    "`season` | year the storm began\n",
    "`number` | number of the storm for the year (restarts at 1 for each year)\n",
    "`basin` | basin of the current storm position\n",
    "`subbasin` | sub-basin of the current storm position\n",
    "`name` | name of system give by source (if available)\n",
    "`iso_time` | time of the observation in ISO format (YYYY-MM-DD hh:mm:ss)\n",
    "`nature` | type of storm (a combination of the various types from the available sources)\n",
    "`lat` | mean position - latitude (a combination of the available positions)\n",
    "`lon` | mean position - longitude (a combination of the available positions)\n",
    "`wmo_wind` | maximum sustained wind speed assigned by the responsible WMO agency\n",
    "`wmo_pres` | minimum central pressure assigned by the responsible WMO agnecy\n",
    "`track_type` | track type (main or spur). \n",
    "`dist2land` | current distance to land from current position\n",
    "`landfall` | minimum distance to land over next 3 hours (=0 means landfall)\n",
    "`iflag` | a flag identifying the type of interpolation used to fill the value at the given time\n",
    "`storm_speed` | storm translation speed (knots)\n",
    "`storm_dir` | storm translation direction (in degrees east of north)\n",
    "\n",
    "</center>\n",
    "\n",
    "We won't necessarily keep all of these, but it's good to know what these are. Now let's read in the data and have a look at the last few values."
   ]
  },
  {
   "cell_type": "code",
   "execution_count": 3,
   "metadata": {},
   "outputs": [
    {
     "data": {
      "text/html": [
       "<div>\n",
       "<style scoped>\n",
       "    .dataframe tbody tr th:only-of-type {\n",
       "        vertical-align: middle;\n",
       "    }\n",
       "\n",
       "    .dataframe tbody tr th {\n",
       "        vertical-align: top;\n",
       "    }\n",
       "\n",
       "    .dataframe thead th {\n",
       "        text-align: right;\n",
       "    }\n",
       "</style>\n",
       "<table border=\"1\" class=\"dataframe\">\n",
       "  <thead>\n",
       "    <tr style=\"text-align: right;\">\n",
       "      <th></th>\n",
       "      <th>SID</th>\n",
       "      <th>SEASON</th>\n",
       "      <th>NUMBER</th>\n",
       "      <th>NAME</th>\n",
       "      <th>ISO_TIME</th>\n",
       "      <th>NATURE</th>\n",
       "      <th>LAT</th>\n",
       "      <th>LON</th>\n",
       "      <th>WMO_WIND</th>\n",
       "      <th>WMO_PRES</th>\n",
       "      <th>TRACK_TYPE</th>\n",
       "      <th>DIST2LAND</th>\n",
       "      <th>LANDFALL</th>\n",
       "      <th>IFLAG</th>\n",
       "      <th>STORM_SPEED</th>\n",
       "      <th>STORM_DIR</th>\n",
       "    </tr>\n",
       "  </thead>\n",
       "  <tbody>\n",
       "    <tr>\n",
       "      <th>125527</th>\n",
       "      <td>2022311N21293</td>\n",
       "      <td>2022</td>\n",
       "      <td>83</td>\n",
       "      <td>NICOLE</td>\n",
       "      <td>2022-11-11 06:00:00</td>\n",
       "      <td>TS</td>\n",
       "      <td>31.2667</td>\n",
       "      <td>-84.5333</td>\n",
       "      <td></td>\n",
       "      <td></td>\n",
       "      <td>PROVISIONAL</td>\n",
       "      <td>0</td>\n",
       "      <td>0</td>\n",
       "      <td>O_____________</td>\n",
       "      <td>15</td>\n",
       "      <td>348</td>\n",
       "    </tr>\n",
       "    <tr>\n",
       "      <th>125528</th>\n",
       "      <td>2022311N21293</td>\n",
       "      <td>2022</td>\n",
       "      <td>83</td>\n",
       "      <td>NICOLE</td>\n",
       "      <td>2022-11-11 09:00:00</td>\n",
       "      <td>TS</td>\n",
       "      <td>32.1255</td>\n",
       "      <td>-84.6562</td>\n",
       "      <td></td>\n",
       "      <td></td>\n",
       "      <td>PROVISIONAL</td>\n",
       "      <td>0</td>\n",
       "      <td>0</td>\n",
       "      <td>P_____________</td>\n",
       "      <td>19</td>\n",
       "      <td>1</td>\n",
       "    </tr>\n",
       "    <tr>\n",
       "      <th>125529</th>\n",
       "      <td>2022311N21293</td>\n",
       "      <td>2022</td>\n",
       "      <td>83</td>\n",
       "      <td>NICOLE</td>\n",
       "      <td>2022-11-11 12:00:00</td>\n",
       "      <td>TS</td>\n",
       "      <td>33.2000</td>\n",
       "      <td>-84.5333</td>\n",
       "      <td></td>\n",
       "      <td></td>\n",
       "      <td>PROVISIONAL</td>\n",
       "      <td>0</td>\n",
       "      <td>0</td>\n",
       "      <td>O_____________</td>\n",
       "      <td>24</td>\n",
       "      <td>11</td>\n",
       "    </tr>\n",
       "    <tr>\n",
       "      <th>125530</th>\n",
       "      <td>2022311N21293</td>\n",
       "      <td>2022</td>\n",
       "      <td>83</td>\n",
       "      <td>NICOLE</td>\n",
       "      <td>2022-11-11 15:00:00</td>\n",
       "      <td>TS</td>\n",
       "      <td>34.4534</td>\n",
       "      <td>-84.1225</td>\n",
       "      <td></td>\n",
       "      <td></td>\n",
       "      <td>PROVISIONAL</td>\n",
       "      <td>0</td>\n",
       "      <td>0</td>\n",
       "      <td>P_____________</td>\n",
       "      <td>27</td>\n",
       "      <td>18</td>\n",
       "    </tr>\n",
       "    <tr>\n",
       "      <th>125531</th>\n",
       "      <td>2022311N21293</td>\n",
       "      <td>2022</td>\n",
       "      <td>83</td>\n",
       "      <td>NICOLE</td>\n",
       "      <td>2022-11-11 18:00:00</td>\n",
       "      <td>DS</td>\n",
       "      <td>35.8000</td>\n",
       "      <td>-83.5333</td>\n",
       "      <td></td>\n",
       "      <td></td>\n",
       "      <td>PROVISIONAL</td>\n",
       "      <td>0</td>\n",
       "      <td></td>\n",
       "      <td>O_____________</td>\n",
       "      <td>29</td>\n",
       "      <td>20</td>\n",
       "    </tr>\n",
       "  </tbody>\n",
       "</table>\n",
       "</div>"
      ],
      "text/plain": [
       "                  SID  SEASON  NUMBER    NAME            ISO_TIME NATURE  \\\n",
       "125527  2022311N21293    2022      83  NICOLE 2022-11-11 06:00:00     TS   \n",
       "125528  2022311N21293    2022      83  NICOLE 2022-11-11 09:00:00     TS   \n",
       "125529  2022311N21293    2022      83  NICOLE 2022-11-11 12:00:00     TS   \n",
       "125530  2022311N21293    2022      83  NICOLE 2022-11-11 15:00:00     TS   \n",
       "125531  2022311N21293    2022      83  NICOLE 2022-11-11 18:00:00     DS   \n",
       "\n",
       "            LAT      LON WMO_WIND WMO_PRES   TRACK_TYPE  DIST2LAND LANDFALL  \\\n",
       "125527  31.2667 -84.5333                    PROVISIONAL          0        0   \n",
       "125528  32.1255 -84.6562                    PROVISIONAL          0        0   \n",
       "125529  33.2000 -84.5333                    PROVISIONAL          0        0   \n",
       "125530  34.4534 -84.1225                    PROVISIONAL          0        0   \n",
       "125531  35.8000 -83.5333                    PROVISIONAL          0            \n",
       "\n",
       "                 IFLAG STORM_SPEED STORM_DIR  \n",
       "125527  O_____________          15       348  \n",
       "125528  P_____________          19         1  \n",
       "125529  O_____________          24        11  \n",
       "125530  P_____________          27        18  \n",
       "125531  O_____________          29        20  "
      ]
     },
     "execution_count": 3,
     "metadata": {},
     "output_type": "execute_result"
    }
   ],
   "source": [
    "# Read the data from the CSV\n",
    "df = pd.read_csv(filePath,low_memory=False,skiprows=range(1,2))\n",
    "\n",
    "# Only keep a handful of columns\n",
    "keepColumns = ['SID','SEASON','NUMBER','NAME','ISO_TIME',\n",
    "               'NATURE','LAT','LON','WMO_WIND','WMO_PRES','TRACK_TYPE',\n",
    "               'DIST2LAND','LANDFALL','IFLAG','STORM_SPEED','STORM_DIR']\n",
    "df = df[keepColumns]\n",
    "\n",
    "# Convert time strings to datetimes for better querying\n",
    "df['ISO_TIME'] = pd.to_datetime(df['ISO_TIME'])\n",
    "df['SEASON'] = pd.to_numeric(df['SEASON'])\n",
    "df['NUMBER'] = pd.to_numeric(df['NUMBER'])\n",
    "df['LAT'] = pd.to_numeric(df['LAT'])\n",
    "df['LON'] = pd.to_numeric(df['LON'])\n",
    "\n",
    "# Show the last few records\n",
    "df.tail()"
   ]
  },
  {
   "attachments": {},
   "cell_type": "markdown",
   "metadata": {},
   "source": [
    "We can query the dataframe to make data analysis a bit easier. For example, let's see how many named storms are in each season."
   ]
  },
  {
   "cell_type": "code",
   "execution_count": 4,
   "metadata": {},
   "outputs": [
    {
     "data": {
      "image/png": "[encoded data removed]",
      "text/plain": [
       "<Figure size 1000x600 with 1 Axes>"
      ]
     },
     "metadata": {},
     "output_type": "display_data"
    }
   ],
   "source": [
    "# Count the number of named storms in a season\n",
    "dfNamedCounts = df[df['NAME'] != 'NOT_NAMED'].groupby(['SEASON']).agg({'NAME':'nunique'}).reset_index()\n",
    "\n",
    "# Initialize the plot\n",
    "fig,ax = plt.subplots(figsize=(10,6))\n",
    "\n",
    "# Plot the counts\n",
    "ax.bar(dfNamedCounts[\"SEASON\"],dfNamedCounts[\"NAME\"])\n",
    "\n",
    "# Configure the plot\n",
    "ax.set_xlabel(\"Year\",fontsize=12)\n",
    "ax.set_ylabel(\"Count\",fontsize=12)\n",
    "ax.set_title(\"Number of Named Storms Each Season\",fontsize=16)\n",
    "plt.tight_layout()\n",
    "\n",
    "# Save the plot\n",
    "filePath = '../images/named_storm_count.png'\n",
    "fig.savefig(filePath)"
   ]
  },
  {
   "attachments": {},
   "cell_type": "markdown",
   "metadata": {},
   "source": [
    "We can also query seasons. Let's see the unique named storms this year."
   ]
  },
  {
   "cell_type": "code",
   "execution_count": 5,
   "metadata": {},
   "outputs": [
    {
     "data": {
      "text/html": [
       "<div>\n",
       "<style scoped>\n",
       "    .dataframe tbody tr th:only-of-type {\n",
       "        vertical-align: middle;\n",
       "    }\n",
       "\n",
       "    .dataframe tbody tr th {\n",
       "        vertical-align: top;\n",
       "    }\n",
       "\n",
       "    .dataframe thead tr th {\n",
       "        text-align: left;\n",
       "    }\n",
       "\n",
       "    .dataframe thead tr:last-of-type th {\n",
       "        text-align: right;\n",
       "    }\n",
       "</style>\n",
       "<table border=\"1\" class=\"dataframe\">\n",
       "  <thead>\n",
       "    <tr>\n",
       "      <th></th>\n",
       "      <th colspan=\"2\" halign=\"left\">ISO_TIME</th>\n",
       "    </tr>\n",
       "    <tr>\n",
       "      <th></th>\n",
       "      <th>first</th>\n",
       "      <th>last</th>\n",
       "    </tr>\n",
       "    <tr>\n",
       "      <th>NAME</th>\n",
       "      <th></th>\n",
       "      <th></th>\n",
       "    </tr>\n",
       "  </thead>\n",
       "  <tbody>\n",
       "    <tr>\n",
       "      <th>ALEX</th>\n",
       "      <td>2022-06-02 18:00:00</td>\n",
       "      <td>2022-06-06 18:00:00</td>\n",
       "    </tr>\n",
       "    <tr>\n",
       "      <th>BONNIE</th>\n",
       "      <td>2022-06-22 18:00:00</td>\n",
       "      <td>2022-07-09 18:00:00</td>\n",
       "    </tr>\n",
       "    <tr>\n",
       "      <th>COLIN</th>\n",
       "      <td>2022-07-01 18:00:00</td>\n",
       "      <td>2022-07-03 06:00:00</td>\n",
       "    </tr>\n",
       "    <tr>\n",
       "      <th>DANIELLE</th>\n",
       "      <td>2022-08-31 12:00:00</td>\n",
       "      <td>2022-09-15 18:00:00</td>\n",
       "    </tr>\n",
       "    <tr>\n",
       "      <th>EARL</th>\n",
       "      <td>2022-09-02 18:00:00</td>\n",
       "      <td>2022-09-15 12:00:00</td>\n",
       "    </tr>\n",
       "    <tr>\n",
       "      <th>FIONA</th>\n",
       "      <td>2022-09-14 06:00:00</td>\n",
       "      <td>2022-09-27 18:00:00</td>\n",
       "    </tr>\n",
       "    <tr>\n",
       "      <th>GASTON</th>\n",
       "      <td>2022-09-19 12:00:00</td>\n",
       "      <td>2022-09-27 18:00:00</td>\n",
       "    </tr>\n",
       "    <tr>\n",
       "      <th>HERMINE</th>\n",
       "      <td>2022-09-23 06:00:00</td>\n",
       "      <td>2022-09-26 00:00:00</td>\n",
       "    </tr>\n",
       "    <tr>\n",
       "      <th>IAN</th>\n",
       "      <td>2022-09-22 18:00:00</td>\n",
       "      <td>2022-10-02 00:00:00</td>\n",
       "    </tr>\n",
       "    <tr>\n",
       "      <th>JULIA</th>\n",
       "      <td>2022-10-02 00:00:00</td>\n",
       "      <td>2022-10-10 18:00:00</td>\n",
       "    </tr>\n",
       "    <tr>\n",
       "      <th>KARL</th>\n",
       "      <td>2022-10-11 12:00:00</td>\n",
       "      <td>2022-10-15 18:00:00</td>\n",
       "    </tr>\n",
       "    <tr>\n",
       "      <th>LISA</th>\n",
       "      <td>2022-10-30 18:00:00</td>\n",
       "      <td>2022-11-05 12:00:00</td>\n",
       "    </tr>\n",
       "    <tr>\n",
       "      <th>MARTIN</th>\n",
       "      <td>2022-10-30 18:00:00</td>\n",
       "      <td>2022-11-04 18:00:00</td>\n",
       "    </tr>\n",
       "    <tr>\n",
       "      <th>NICOLE</th>\n",
       "      <td>2022-11-06 12:00:00</td>\n",
       "      <td>2022-11-11 18:00:00</td>\n",
       "    </tr>\n",
       "  </tbody>\n",
       "</table>\n",
       "</div>"
      ],
      "text/plain": [
       "                    ISO_TIME                    \n",
       "                       first                last\n",
       "NAME                                            \n",
       "ALEX     2022-06-02 18:00:00 2022-06-06 18:00:00\n",
       "BONNIE   2022-06-22 18:00:00 2022-07-09 18:00:00\n",
       "COLIN    2022-07-01 18:00:00 2022-07-03 06:00:00\n",
       "DANIELLE 2022-08-31 12:00:00 2022-09-15 18:00:00\n",
       "EARL     2022-09-02 18:00:00 2022-09-15 12:00:00\n",
       "FIONA    2022-09-14 06:00:00 2022-09-27 18:00:00\n",
       "GASTON   2022-09-19 12:00:00 2022-09-27 18:00:00\n",
       "HERMINE  2022-09-23 06:00:00 2022-09-26 00:00:00\n",
       "IAN      2022-09-22 18:00:00 2022-10-02 00:00:00\n",
       "JULIA    2022-10-02 00:00:00 2022-10-10 18:00:00\n",
       "KARL     2022-10-11 12:00:00 2022-10-15 18:00:00\n",
       "LISA     2022-10-30 18:00:00 2022-11-05 12:00:00\n",
       "MARTIN   2022-10-30 18:00:00 2022-11-04 18:00:00\n",
       "NICOLE   2022-11-06 12:00:00 2022-11-11 18:00:00"
      ]
     },
     "execution_count": 5,
     "metadata": {},
     "output_type": "execute_result"
    }
   ],
   "source": [
    "df[(df['SEASON']==df['SEASON'].max()) & (df['NAME']!='NOT_NAMED')].groupby(\"NAME\").agg({\"ISO_TIME\":[\"first\",\"last\"]})"
   ]
  },
  {
   "attachments": {},
   "cell_type": "markdown",
   "metadata": {},
   "source": [
    "## Accumulated Cyclone Energy\n",
    "\n",
    "Let's explore the data a bit more. Accumulated Cyclone Energy (ACE) is defined as the cummulative kinetic energy over the storm for every six hours when the winds are above 35 knots. As these numbers are often quite large, they are scaled down by a factor of 10000. Let's subset the whole IBTrACS to six-hourly data which winds below this threshold. It's a little more nuanced than what I'm doing here, but it's still roughly the same idea."
   ]
  },
  {
   "cell_type": "code",
   "execution_count": 6,
   "metadata": {},
   "outputs": [],
   "source": [
    "df = df[df['ISO_TIME'].dt.hour.isin([0,6,12,18])]\n",
    "df[\"WMO_WIND\"] = pd.to_numeric(df[df['WMO_WIND']!=\" \"][\"WMO_WIND\"])\n",
    "df = df[df[\"WMO_WIND\"]>=35]"
   ]
  },
  {
   "attachments": {},
   "cell_type": "markdown",
   "metadata": {},
   "source": [
    "Now let's subset the data and calculate the ACE based on the formula."
   ]
  },
  {
   "cell_type": "code",
   "execution_count": 7,
   "metadata": {},
   "outputs": [],
   "source": [
    "years = [i for i in range(df['SEASON'].min(),df['SEASON'].max()+1)]\n",
    "ace = [(df[df[\"SEASON\"]==year]['WMO_WIND']**2).sum()/10000. for year in years]"
   ]
  },
  {
   "attachments": {},
   "cell_type": "markdown",
   "metadata": {},
   "source": [
    "And now we can plot the results."
   ]
  },
  {
   "cell_type": "code",
   "execution_count": 8,
   "metadata": {},
   "outputs": [
    {
     "data": {
      "image/png": "[encoded data removed]",
      "text/plain": [
       "<Figure size 1000x600 with 1 Axes>"
      ]
     },
     "metadata": {},
     "output_type": "display_data"
    }
   ],
   "source": [
    "# Plot the ACE data\n",
    "fig,ax = plt.subplots(figsize=(10,6));\n",
    "ax.bar(years,ace);\n",
    "ax.set_xlabel(\"Year\",fontsize=12);\n",
    "ax.set_ylabel(\"ACE\",fontsize=12);\n",
    "ax.set_title(\"Accumulated Cyclone Energy\",fontsize=16);\n",
    "ax.set_xlim(min(years),max(years));\n",
    "plt.tight_layout()\n",
    "\n",
    "# Save the plot\n",
    "filePath = '../images/ace.png'\n",
    "fig.savefig(filePath)"
   ]
  },
  {
   "attachments": {},
   "cell_type": "markdown",
   "metadata": {},
   "source": [
    "Let's have a look at the years with the largest ACE."
   ]
  },
  {
   "cell_type": "code",
   "execution_count": 9,
   "metadata": {},
   "outputs": [
    {
     "name": "stdout",
     "output_type": "stream",
     "text": [
      "Year 1933 \t Ace: 272.635\n",
      "Year 2005 \t Ace: 271.1\n",
      "Year 1995 \t Ace: 248.14\n",
      "Year 1893 \t Ace: 244.5925\n",
      "Year 2004 \t Ace: 235.9775\n",
      "Year 2017 \t Ace: 235.735\n",
      "Year 1926 \t Ace: 234.5325\n",
      "Year 1950 \t Ace: 231.21\n",
      "Year 1961 \t Ace: 210.8725\n",
      "Year 1887 \t Ace: 202.505\n"
     ]
    }
   ],
   "source": [
    "aceSorted = sorted(ace,reverse=True)\n",
    "yearsSorted = [year for _,year in sorted(zip(ace,years),reverse=True)]\n",
    "for aceValue,year in zip(aceSorted[:10],yearsSorted[:10]):\n",
    "    print(\"Year\",year,\"\\t Ace:\",aceValue)"
   ]
  }
 ],
 "metadata": {
  "kernelspec": {
   "display_name": "Python 3",
   "language": "python",
   "name": "python3"
  },
  "language_info": {
   "codemirror_mode": {
    "name": "ipython",
    "version": 3
   },
   "file_extension": ".py",
   "mimetype": "text/x-python",
   "name": "python",
   "nbconvert_exporter": "python",
   "pygments_lexer": "ipython3",
   "version": "3.10.11"
  }
 },
 "nbformat": 4,
 "nbformat_minor": 4
}
